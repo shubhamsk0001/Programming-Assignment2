{
 "cells": [
  {
   "cell_type": "code",
   "execution_count": null,
   "id": "cdad9400",
   "metadata": {},
   "outputs": [],
   "source": [
    "1. Write a Python program to convert kilometers to miles?"
   ]
  },
  {
   "cell_type": "code",
   "execution_count": 1,
   "id": "0498ddd1",
   "metadata": {},
   "outputs": [
    {
     "name": "stdout",
     "output_type": "stream",
     "text": [
      "Enter no of kilometres=6\n",
      "mile=3.7282260000000003\n"
     ]
    }
   ],
   "source": [
    "k=int(input(\"Enter no of kilometres=\"))\n",
    "m=k*0.621371\n",
    "print(f\"mile={m}\")"
   ]
  },
  {
   "cell_type": "code",
   "execution_count": null,
   "id": "368aabc3",
   "metadata": {},
   "outputs": [],
   "source": [
    "2. Write a Python program to convert Celsius to Fahrenheit?"
   ]
  },
  {
   "cell_type": "code",
   "execution_count": 3,
   "id": "4d093ede",
   "metadata": {},
   "outputs": [
    {
     "name": "stdout",
     "output_type": "stream",
     "text": [
      "Enter temp in celcius=36\n",
      "temp in Fahrenheit=96.8\n"
     ]
    }
   ],
   "source": [
    "c=int(input(\"Enter temp in celcius=\"))\n",
    "f=9/5*c+32\n",
    "print(f\"temp in Fahrenheit={f}\")"
   ]
  },
  {
   "cell_type": "code",
   "execution_count": null,
   "id": "6f90cf90",
   "metadata": {},
   "outputs": [],
   "source": [
    "3. Write a Python program to display calendar?"
   ]
  },
  {
   "cell_type": "code",
   "execution_count": 5,
   "id": "4e3c2438",
   "metadata": {},
   "outputs": [
    {
     "name": "stdout",
     "output_type": "stream",
     "text": [
      "Enter year: 2015\n",
      "Enter month: 6\n",
      "     June 2015\n",
      "Mo Tu We Th Fr Sa Su\n",
      " 1  2  3  4  5  6  7\n",
      " 8  9 10 11 12 13 14\n",
      "15 16 17 18 19 20 21\n",
      "22 23 24 25 26 27 28\n",
      "29 30\n",
      "\n"
     ]
    }
   ],
   "source": [
    "import calendar\n",
    "yy = int(input(\"Enter year: \"))\n",
    "mm=int(input(\"Enter month: \"))\n",
    "print(calendar.month(yy, mm))"
   ]
  },
  {
   "cell_type": "code",
   "execution_count": null,
   "id": "486c7ad9",
   "metadata": {},
   "outputs": [],
   "source": [
    "4.Write a Python program to solve quadratic equation?"
   ]
  },
  {
   "cell_type": "code",
   "execution_count": 4,
   "id": "263a07e3",
   "metadata": {},
   "outputs": [
    {
     "name": "stdout",
     "output_type": "stream",
     "text": [
      "Enter coefficient of x square=1\n",
      "Enter coefficient of x =4\n",
      "Enter constant=4\n",
      "Roots are equal=-2.0\n"
     ]
    }
   ],
   "source": [
    "a=int(input(\"Enter coefficient of x square=\"))\n",
    "b=int(input(\"Enter coefficient of x =\"))\n",
    "c=int(input(\"Enter constant=\"))\n",
    "d=((b*b)-(4*a*c))\n",
    "de=(d)**0.5\n",
    "if d<0:\n",
    "    print(\"Roots are imaginary\")\n",
    "elif d==0:\n",
    "    print(f\"Roots are equal={(-b)/(2*a)}\")\n",
    "else:\n",
    "    print(f\"Roots are={(-b+de)/(2*a)} and {(-b-de)/(2*a)}\")"
   ]
  },
  {
   "cell_type": "code",
   "execution_count": null,
   "id": "cb312d55",
   "metadata": {},
   "outputs": [],
   "source": [
    "5. Write a Python program to swap two variables without temp variable?"
   ]
  },
  {
   "cell_type": "code",
   "execution_count": 5,
   "id": "b9ce20bd",
   "metadata": {},
   "outputs": [
    {
     "name": "stdout",
     "output_type": "stream",
     "text": [
      "Enter first no=8\n",
      "Enter second no=6\n",
      "first swap value=6\n",
      "second swap value=8\n"
     ]
    }
   ],
   "source": [
    "a=int(input(\"Enter first no=\"))\n",
    "b=int(input(\"Enter second no=\"))\n",
    "a=a+b\n",
    "b=a-b\n",
    "a=a-b\n",
    "print(f\"first swap value={a}\")\n",
    "print(f\"second swap value={b}\")"
   ]
  },
  {
   "cell_type": "code",
   "execution_count": null,
   "id": "5814b8ed",
   "metadata": {},
   "outputs": [],
   "source": []
  }
 ],
 "metadata": {
  "kernelspec": {
   "display_name": "Python 3 (ipykernel)",
   "language": "python",
   "name": "python3"
  },
  "language_info": {
   "codemirror_mode": {
    "name": "ipython",
    "version": 3
   },
   "file_extension": ".py",
   "mimetype": "text/x-python",
   "name": "python",
   "nbconvert_exporter": "python",
   "pygments_lexer": "ipython3",
   "version": "3.9.12"
  }
 },
 "nbformat": 4,
 "nbformat_minor": 5
}
